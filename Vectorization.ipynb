{
 "cells": [
  {
   "cell_type": "markdown",
   "metadata": {},
   "source": [
    "<h1 align=\"center\"> Vectorization - Term Frequency and Document Frequency Counting </h1>"
   ]
  },
  {
   "cell_type": "markdown",
   "metadata": {},
   "source": [
    "### A. Introduction:"
   ]
  },
  {
   "cell_type": "markdown",
   "metadata": {},
   "source": [
    "This notebook uses Python to count term frequency of words in a document and count document frequency that word exist in the folder"
   ]
  },
  {
   "cell_type": "markdown",
   "metadata": {},
   "source": [
    "<h3>B. Data Files:</h3>"
   ]
  },
  {
   "cell_type": "markdown",
   "metadata": {},
   "source": [
    "- 20 data files are included in Files folder (You can add more if you want)"
   ]
  },
  {
   "cell_type": "markdown",
   "metadata": {},
   "source": [
    "<h3>C. Create a Document abstract data type/class</h3>"
   ]
  },
  {
   "cell_type": "code",
   "execution_count": 8,
   "metadata": {},
   "outputs": [],
   "source": [
    "class Document:\n",
    "    def __init__(self, doc_id):\n",
    "        self.id = doc_id\n",
    "        self.tfdict = {}\n",
    "        \n",
    "    def tokenize(self, text):\n",
    "        #Remove the punctuation\n",
    "        word2 = text.lower().replace(',','')\n",
    "        word3 = word2.replace('.','')\n",
    "        word4 = word3.replace('-','')\n",
    "        word5 = word4.replace(';','')\n",
    "        word6 = word5.replace(':','')\n",
    "        word7 = word6.replace('\"\"','')\n",
    "        word8 = word7.replace('!','')\n",
    "        word9 = word8.replace('/','')\n",
    "        word10 = word9.replace(']','')\n",
    "        \n",
    "        #Split words by space\n",
    "        words = word10.split(\" \")\n",
    "        for word in words:\n",
    "            if word not in self.tfdict:\n",
    "                self.tfdict[word] = 1 #Add word to dictionay if it is not in, and set the frequency to 1\n",
    "            else:\n",
    "                self.tfdict[word] = self.tfdict[word] + 1 #Increase word's frequency by 1 if it is in the dictionary"
   ]
  },
  {
   "cell_type": "markdown",
   "metadata": {},
   "source": [
    "<h3>D. Now outside the document class: </h3>"
   ]
  },
  {
   "cell_type": "code",
   "execution_count": 38,
   "metadata": {},
   "outputs": [],
   "source": [
    "def save_dictionary(dict_data, file_path_name):\n",
    "    f =  open(file_path_name, \"w+\") #Open file to write data\n",
    "    for key in dict_data:\n",
    "        val = dict_data[key]\n",
    "        f.write(key + '\\t' + str(val) +'\\n') #write data to file in pair of key and value, and format.\n",
    "    f.close()"
   ]
  },
  {
   "cell_type": "code",
   "execution_count": 41,
   "metadata": {},
   "outputs": [],
   "source": [
    "def vectorize(data_path):\n",
    "    data_path = \"files\"\n",
    "    dfs = {}\n",
    "    for i in range (1, 21): #For loop to go over 20 txt files (change this number if you have more document)\n",
    "        with open('files//' + str(i) +'.txt') as txtf:\n",
    "            content = txtf.read() #Read the files\n",
    "            doc = Document(i) #Call Document Class\n",
    "            doc.tokenize(content) #Process the content\n",
    "            save_dictionary(doc.tfdict,'results/tf_'+str(i)+'.txt') #Save to the term frequency dictonary and format the name\n",
    "            for freq in doc.tfdict: #check the word in term frequency dictionary\n",
    "                if freq not in dfs: \n",
    "                    dfs[freq] = 1 #Add the word to the document dictionary if it is not in, and set document frequency to 1\n",
    "                else:\n",
    "                    dfs[freq] = dfs.get(freq,0)+1 #Increase the word's frequency in the dictionary by 1\n",
    "        txtf.close()\n",
    "    save_dictionary(dfs,'results/df.txt') #Save the document dictionary and format the name"
   ]
  },
  {
   "cell_type": "code",
   "execution_count": 42,
   "metadata": {},
   "outputs": [],
   "source": [
    "vectorize(\"files\\./\") #Process the text files in the directory"
   ]
  },
  {
   "cell_type": "markdown",
   "metadata": {},
   "source": [
    "### E. Result:"
   ]
  },
  {
   "cell_type": "markdown",
   "metadata": {},
   "source": [
    "Check the result folder:\n",
    "<ul>\n",
    "    <li>Term Frequency is in tf_x.txt (where x is the document number)</li>\n",
    "    <li>Document Frequency is in df.txt file"
   ]
  }
 ],
 "metadata": {
  "kernelspec": {
   "display_name": "Python 3",
   "language": "python",
   "name": "python3"
  },
  "language_info": {
   "codemirror_mode": {
    "name": "ipython",
    "version": 3
   },
   "file_extension": ".py",
   "mimetype": "text/x-python",
   "name": "python",
   "nbconvert_exporter": "python",
   "pygments_lexer": "ipython3",
   "version": "3.7.6"
  }
 },
 "nbformat": 4,
 "nbformat_minor": 4
}
